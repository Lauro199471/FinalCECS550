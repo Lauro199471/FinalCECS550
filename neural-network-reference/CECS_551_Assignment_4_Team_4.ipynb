{
  "nbformat": 4,
  "nbformat_minor": 0,
  "metadata": {
    "colab": {
      "name": "CECS 551 Assignment 4 Team 4",
      "provenance": [],
      "collapsed_sections": []
    },
    "kernelspec": {
      "name": "python3",
      "display_name": "Python 3"
    }
  },
  "cells": [
    {
      "cell_type": "markdown",
      "metadata": {
        "id": "gmmd1_6J72bO",
        "colab_type": "text"
      },
      "source": [
        "CECS 551 Assignment 4  \n",
        "Team 4: Sella Bae, Matthew Nguyen, Yashua Ovando  \n",
        "Feb 21, 2020"
      ]
    },
    {
      "cell_type": "markdown",
      "metadata": {
        "id": "wti3eygJVOuJ",
        "colab_type": "text"
      },
      "source": [
        "# Multi-layer neural network model from scratch\n",
        "Train a model that approximates XOR function\n",
        "- Layer1 width: 2\n",
        "- Layer1 activation func: [hyperbolic tangent](https://ml-cheatsheet.readthedocs.io/en/latest/activation_functions.html#tanh)\n",
        "- Layer2 width: 1\n",
        "- Layer2 activation func: [sigmoid](https://ml-cheatsheet.readthedocs.io/en/latest/activation_functions.html#sigmoid)\n",
        "- Loss function: [binary cross entropy](https://ml-cheatsheet.readthedocs.io/en/latest/loss_functions.html) $L(y,\\hat{y}) = −(𝑦log(\\hat{y})+(1−𝑦)log(1−\\hat{y}))$"
      ]
    },
    {
      "cell_type": "markdown",
      "metadata": {
        "id": "lhZfOzzCW9Rf",
        "colab_type": "text"
      },
      "source": [
        "### (b) Calculation of $\\frac{\\partial L}{\\partial \\vec{W}^{(1)}}$, $\\frac{\\partial L}{\\partial \\vec{w}^{(2)}}$, $\\frac{\\partial L}{\\partial \\vec{b}^{(1)}}$, and $\\frac{\\partial L}{\\partial {b}^{(2)}}$"
      ]
    },
    {
      "cell_type": "markdown",
      "metadata": {
        "id": "wEAp-yxBcDpH",
        "colab_type": "text"
      },
      "source": [
        "$\n",
        "\\frac{\\partial L}{\\partial \\vec{W}^{(1)}}\n",
        "= \\left[ \\begin{matrix}\n",
        "\\frac{\\partial L}{\\partial w^1_{11}} &\n",
        "\\frac{\\partial L}{\\partial w^1_{12}} \\\\\n",
        "\\frac{\\partial L}{\\partial w^1_{21}} &\n",
        "\\frac{\\partial L}{\\partial w^1_{22}}\n",
        "\\end{matrix} \\right]\n",
        "= J'(y,\\hat{y}) \\cdot \\sigma'(\\hat{y}) \\cdot {\\vec{w}^{(2)}}^\\top \\cdot {\\tanh'(\\vec{h}^{(1)})}^\\top \\cdot \\vec{x}\n",
        "$\n",
        "\n",
        "> $\\frac{\\partial L}{\\partial w^1_{11}}\n",
        "= \\frac{\\partial L}{\\partial h^1_1}\n",
        "\\frac{\\partial h^1_1}{\\partial a^1_1}\n",
        "\\frac{\\partial a^1_1}{\\partial w^1_{11}}\n",
        "= (\\frac{1-y}{1-\\hat{y}} - \\frac{y}{\\hat y})\n",
        "\\cdot \\hat{y}(1-\\hat{y}) \n",
        "\\cdot w^2_1\n",
        "\\cdot (1-(h^1_1)^2)  \n",
        "\\cdot x_1\n",
        "$\n",
        "> $\\frac{\\partial L}{\\partial w^1_{12}}\n",
        "= \\frac{\\partial L}{\\partial h^1_2}\n",
        "\\frac{\\partial h^1_2}{\\partial a^1_2}\n",
        "\\frac{\\partial a^1_2}{\\partial w^1_{12}}\n",
        "= (\\frac{1-y}{1-\\hat{y}} - \\frac{y}{\\hat y})\n",
        " \\cdot \\hat{y}(1-\\hat{y})\n",
        " \\cdot w^2_2 \n",
        " \\cdot (1-(h^1_2)^2)  \n",
        " \\cdot x_1\n",
        "$\n",
        "> $\\frac{\\partial L}{\\partial w^1_{21}}\n",
        "= \\frac{\\partial L}{\\partial h^1_1}\n",
        "\\frac{\\partial h^1_1}{\\partial a^1_1}\n",
        "\\frac{\\partial a^1_1}{\\partial w^1_{21}}\n",
        "= (\\frac{1-y}{1-\\hat{y}} - \\frac{y}{\\hat y})\n",
        "\\cdot \\hat{y}(1-\\hat{y}) \n",
        "\\cdot w^2_1 \n",
        "\\cdot (1-(h^1_1)^2)  \n",
        "\\cdot x_2\n",
        "$\n",
        "> $\\frac{\\partial L}{\\partial w^1_{22}}\n",
        "= \\frac{\\partial L}{\\partial h^1_2}\n",
        "\\frac{\\partial h^1_2}{\\partial a^1_2}\n",
        "\\frac{\\partial a^1_2}{\\partial w^1_{22}}\n",
        "= (\\frac{1-y}{1-\\hat{y}} - \\frac{y}{\\hat y}) \n",
        "\\cdot \\hat{y}(1-\\hat{y}) \n",
        "\\cdot w^2_2 \n",
        "\\cdot (1-(h^1_2)^2)  \n",
        "\\cdot x_2\n",
        "$"
      ]
    },
    {
      "cell_type": "markdown",
      "metadata": {
        "id": "xYjwjctmjljF",
        "colab_type": "text"
      },
      "source": [
        "$\\frac{\\partial L}{\\partial \\vec{w}^{(2)}}\n",
        "= \\left[ \\begin{matrix}\n",
        "\\frac{\\partial L}{\\partial w^2_1} \\\\\n",
        "\\frac{\\partial L}{\\partial w^2_2}\n",
        "\\end{matrix} \\right]\n",
        "= J'(y,\\hat{y})\n",
        "\\cdot \\sigma'(\\hat{y})\n",
        "\\cdot \\vec{h}^{(1)}\n",
        "$\n",
        "\n",
        "> $\\frac{\\partial L}{\\partial w^2_1}\n",
        "= \\frac{\\partial L}{\\partial \\hat{y}}\n",
        "\\frac{\\partial h^2_1}{\\partial a^2_1}\n",
        "\\frac{\\partial a^2_1}{\\partial w^2_1}\n",
        "= (\\frac{1-y}{1-\\hat{y}} - \\frac{y}{\\hat y})\n",
        "\\cdot \\hat{y}(1-\\hat{y})\n",
        "\\cdot h^1_1\n",
        "$  \n",
        "> $\\frac{\\partial L}{\\partial w^2_2}\n",
        "= \\frac{\\partial L}{\\partial \\hat{y}}\n",
        "\\frac{\\partial h^2_1}{\\partial a^2_1}\n",
        "\\frac{\\partial a^2_1}{\\partial w^2_2}\n",
        "= (\\frac{1-y}{1-\\hat{y}} - \\frac{y}{\\hat y})\n",
        "\\cdot \\hat{y}(1-\\hat{y})\n",
        "\\cdot h^1_2\n",
        "$"
      ]
    },
    {
      "cell_type": "markdown",
      "metadata": {
        "id": "77O2pi8ZjnDx",
        "colab_type": "text"
      },
      "source": [
        "$\\frac{\\partial L}{\\partial \\vec b^{(1)}}\n",
        "= \\left[ \\begin{matrix}\n",
        "\\frac{\\partial L}{\\partial b^1_1} \\\\\n",
        "\\frac{\\partial L}{\\partial b^1_2}\n",
        "\\end{matrix} \\right]\n",
        "= J'(y,\\hat{y}) \\cdot \\sigma'(\\hat y) \\cdot {\\vec w^{(2)}}^\\top \\cdot {tanh'(\\vec h^{(1)})}^\\top\n",
        "$\n",
        "\n",
        "> $\\frac{\\partial L}{\\partial b^1_1} =\n",
        "\\frac{\\partial L}{\\partial h^1_1}\n",
        "\\frac{\\partial h^1_1}{\\partial a^1_1}\n",
        "\\frac{\\partial a^1_1}{\\partial b^1_1}\n",
        "= (\\frac{1-y}{1-\\hat{y}} - \\frac{y}{\\hat y})\n",
        "\\cdot \\hat{y}(1-\\hat{y}) \\cdot w^2_1 \\cdot (1-(h^1_1)^2) \\cdot 1\n",
        "$  \n",
        "> $\\frac{\\partial L}{\\partial b^1_2} =\n",
        "\\frac{\\partial L}{\\partial h^1_2}\n",
        "\\frac{\\partial h^1_2}{\\partial a^1_2}\n",
        "\\frac{\\partial a^1_2}{\\partial b^1_2}\n",
        "= (\\frac{1-y}{1-\\hat{y}} - \\frac{y}{\\hat y})\n",
        "\\cdot \\hat{y}(1-\\hat{y}) \\cdot w^2_2 \\cdot (1-(h^1_2)^2) \\cdot 1\n",
        "$"
      ]
    },
    {
      "cell_type": "markdown",
      "metadata": {
        "id": "WzSv3EHSjo-I",
        "colab_type": "text"
      },
      "source": [
        "$\\frac{\\partial L}{\\partial b^{(2)}}\n",
        "= \\frac{\\partial L}{\\partial b^2_1}\n",
        "= J'(y,\\hat{y}) \\cdot \\sigma'(\\hat{y})\n",
        "$\n",
        "\n",
        "> $\\frac{\\partial L}{\\partial b^2_1}\n",
        "= \\frac{\\partial L}{\\partial \\hat y}\n",
        "\\frac{\\partial h^2_1}{\\partial a^2_1}\n",
        "\\frac{\\partial a^2_1}{\\partial b^2_1}\n",
        "= (\\frac{1-y}{1 - \\hat y} - \\frac{y}{\\hat y}) \\cdot \\hat{y}(1-\\hat{y}) \\cdot 1\n",
        "$"
      ]
    },
    {
      "cell_type": "markdown",
      "metadata": {
        "id": "ShQSmIV_fpu0",
        "colab_type": "text"
      },
      "source": [
        "### (c) Implementation of the XOR model\n",
        "without using external deep learning libraries"
      ]
    },
    {
      "cell_type": "markdown",
      "metadata": {
        "id": "-IECvxxPmx5s",
        "colab_type": "text"
      },
      "source": [
        "#### Sets inputs and targets of XOR function."
      ]
    },
    {
      "cell_type": "code",
      "metadata": {
        "id": "mIhThzqCfcyQ",
        "colab_type": "code",
        "colab": {}
      },
      "source": [
        "import numpy as np\n",
        "\n",
        "X = np.array([[0,0],[0,1],[1,0],[1,1]])   #train data\n",
        "y = np.array([0,1,1,0])                   #target\n"
      ],
      "execution_count": 0,
      "outputs": []
    },
    {
      "cell_type": "markdown",
      "metadata": {
        "id": "TwindTd87SqS",
        "colab_type": "text"
      },
      "source": [
        "#### Defines the activation functions, loss function, and their derivatives to use."
      ]
    },
    {
      "cell_type": "code",
      "metadata": {
        "id": "bct2D2mM7YET",
        "colab_type": "code",
        "colab": {}
      },
      "source": [
        "def sigmoid(z):\n",
        "  return 1.0 / (1 + np.exp(-z))\n",
        "\n",
        "def sigmoid_derivative(z):\n",
        "  return sigmoid(z) * (1 - sigmoid(z))\n",
        "\n",
        "def tanh(z):\n",
        "\treturn (np.exp(z) - np.exp(-z)) / (np.exp(z) + np.exp(-z))\n",
        "  # return np.tanh(z)\n",
        "\n",
        "def tanh_derivative(z):\n",
        "  return 1 - np.power(tanh(z), 2)\n",
        "\n",
        "def cross_entropy(y, yHat):\n",
        "  if y == 1:\n",
        "     return -np.log(yHat)\n",
        "  else:\n",
        "     return -np.log(1 - yHat)\n",
        "\n",
        "def cross_entropy_derivative(y, yHat):\n",
        "   if y == 1:\n",
        "     return -(1/yHat)\n",
        "   else:\n",
        "     return 1/(1-yHat)"
      ],
      "execution_count": 0,
      "outputs": []
    },
    {
      "cell_type": "markdown",
      "metadata": {
        "id": "2jzRJocCmQO7",
        "colab_type": "text"
      },
      "source": [
        "#### Initializes weights and biases with random numbers."
      ]
    },
    {
      "cell_type": "code",
      "metadata": {
        "id": "3ayyUMotfnmX",
        "colab_type": "code",
        "outputId": "cac6fab1-cf4c-4a95-90a9-7401c1be048f",
        "colab": {
          "base_uri": "https://localhost:8080/",
          "height": 138
        }
      },
      "source": [
        "# layer1 (hidden layer)\n",
        "W1 = np.random.uniform(size=(2,2))\n",
        "B1 = np.random.uniform(size=(1,2))\n",
        "# layer2 (output layer)\n",
        "W2 = np.random.uniform(size=(2,1))\n",
        "B2 = np.random.uniform(size=(1,1))\n",
        "\n",
        "def print_params():\n",
        "  print('W1', W1) #hidden layer weights\n",
        "  print('B1', B1) #hidden layer bias\n",
        "  print('W2', W2) #output layer weights\n",
        "  print('B2', B2) #output layer bias\n",
        "\n",
        "print('initial params')\n",
        "print_params()"
      ],
      "execution_count": 0,
      "outputs": [
        {
          "output_type": "stream",
          "text": [
            "initial params\n",
            "W1 [[0.5493904  0.34114756]\n",
            " [0.66874367 0.4247187 ]]\n",
            "B1 [[0.81988232 0.20774709]]\n",
            "W2 [[0.48298607]\n",
            " [0.66560286]]\n",
            "B2 [[0.76986075]]\n"
          ],
          "name": "stdout"
        }
      ]
    },
    {
      "cell_type": "markdown",
      "metadata": {
        "id": "x6GJ-mE8-Sef",
        "colab_type": "text"
      },
      "source": [
        "#### Trains the model!\n",
        "- Update after each sample (batch size 1)\n",
        "- learning rate: 0.1\n",
        "- epoch: 1000"
      ]
    },
    {
      "cell_type": "code",
      "metadata": {
        "id": "GhKkUvGT-aWM",
        "colab_type": "code",
        "outputId": "09543aee-a792-40bd-ff14-485fc78024dd",
        "colab": {
          "base_uri": "https://localhost:8080/",
          "height": 225
        }
      },
      "source": [
        "lr = 0.1\n",
        "epochs = 1000\n",
        "\n",
        "predicted = np.zeros(4, dtype=float)    # store prediction of 4 samples\n",
        "losses = np.zeros(epochs, dtype=float)   # store loss from each epoch\n",
        "\n",
        "\n",
        "for k in range(epochs):\n",
        "\n",
        "  # For all samples\n",
        "  for i in range(len(X)):\n",
        "\n",
        "    # Forward propagation\n",
        "    A1 = np.dot(X[i], W1) + B1      # hidden layer apply params 1x2\n",
        "    H1 = tanh(A1)                   # hidden layer activation function 1x2\n",
        "    A2 = np.dot(H1, W2) + B2        # output layer apply params 1x1\n",
        "    H2 = sigmoid(A2)                # output layer activation function 1x1\n",
        "    predicted[i] = H2               # yHat\n",
        "    \n",
        "    # Calculate Loss\n",
        "    loss = cross_entropy(y[i], predicted[i])\n",
        "\n",
        "    # Backward Propogation\n",
        "    # Update Weight2\n",
        "    d_yHat = cross_entropy_derivative(y[i], predicted[i]);\n",
        "    d_A2 = sigmoid_derivative(A2)       #1x1\n",
        "    daa2 = d_yHat * d_A2                #1x1\n",
        "    d_W2 = H1                           #1x2\n",
        "    W2_update = np.dot(daa2, d_W2).T    #2x1\n",
        "    W2 -= lr * W2_update\n",
        "    # Update Bias2\n",
        "    B2_update = daa2                    #1x1\n",
        "    B2 -= lr * B2_update\n",
        "    # Update Weight1\n",
        "    d_H1 = d_A2 * d_yHat * W2.T         #1x2\n",
        "    d_A1 = tanh_derivative(A1)          #1x2\n",
        "    d_W1 = np.matrix(X[i]).T            #2x1\n",
        "    daa1 = np.multiply(d_H1, d_A1)      #1x2\n",
        "    W1_update = np.multiply(d_W1, daa1) #2x2\n",
        "    W1 -= lr * W1_update\n",
        "    # Update Bias1\n",
        "    B1_update = daa1                    #1x2\n",
        "    B1 -= lr * B1_update\n",
        "\n",
        "  # print(k, 'predicted', predicted, 'loss', loss)\n",
        "  losses[k] = loss\n",
        "\n",
        "\n",
        "print('after', epochs, 'epochs')\n",
        "print('target:', y)\n",
        "print('predicted:', predicted)\n",
        "print('loss:', f'{loss:.{8}f}')\n",
        "\n",
        "print('\\nfinal params');\n",
        "print_params()"
      ],
      "execution_count": 0,
      "outputs": [
        {
          "output_type": "stream",
          "text": [
            "after 1000 epochs\n",
            "target: [0 1 1 0]\n",
            "predicted: [0.01605761 0.99085424 0.99083447 0.01776311]\n",
            "loss: 0.01792277\n",
            "\n",
            "final params\n",
            "W1 [[2.54847504 3.7022514 ]\n",
            " [2.54653541 3.71245332]]\n",
            "B1 [[-3.71997784 -1.74936696]]\n",
            "W2 [[-5.22594097]\n",
            " [ 5.10466194]]\n",
            "B2 [[-4.53176221]]\n"
          ],
          "name": "stdout"
        }
      ]
    },
    {
      "cell_type": "markdown",
      "metadata": {
        "id": "Id5bC3Lh3tgr",
        "colab_type": "text"
      },
      "source": [
        "#### Checks the change in loss through each epoch"
      ]
    },
    {
      "cell_type": "code",
      "metadata": {
        "id": "NHC_cIRS1s0A",
        "colab_type": "code",
        "outputId": "d25020e2-2708-4d51-fbd8-9d0d2dc76b1c",
        "colab": {
          "base_uri": "https://localhost:8080/",
          "height": 283
        }
      },
      "source": [
        "import matplotlib.pyplot as plt\n",
        "\n",
        "plt.plot(np.arange(epochs), losses)\n",
        "plt.xlabel(\"epoch\")\n",
        "plt.ylabel(\"loss\")\n",
        "plt.ylim(0, 2)\n",
        "plt.show()"
      ],
      "execution_count": 0,
      "outputs": [
        {
          "output_type": "display_data",
          "data": {
            "image/png": "[encoded data removed]",
            "text/plain": [
              "<Figure size 432x288 with 1 Axes>"
            ]
          },
          "metadata": {
            "tags": []
          }
        }
      ]
    }
  ]
}